{
 "cells": [
  {
   "cell_type": "code",
   "execution_count": 1,
   "metadata": {},
   "outputs": [],
   "source": [
    "def read_files(path):\n",
    "    with open(path) as f:\n",
    "        str_text=f.read()\n",
    "    return str_text"
   ]
  },
  {
   "cell_type": "code",
   "execution_count": 3,
   "metadata": {},
   "outputs": [],
   "source": [
    "#read_files('moby_dick_four_chapters.txt')"
   ]
  },
  {
   "cell_type": "code",
   "execution_count": 4,
   "metadata": {},
   "outputs": [],
   "source": [
    "import spacy"
   ]
  },
  {
   "cell_type": "code",
   "execution_count": 5,
   "metadata": {},
   "outputs": [],
   "source": [
    "nlp=spacy.load('en',disable=['parser','tagger','ner'])"
   ]
  },
  {
   "cell_type": "code",
   "execution_count": 6,
   "metadata": {},
   "outputs": [],
   "source": [
    "nlp.max_length=1198623"
   ]
  },
  {
   "cell_type": "code",
   "execution_count": 7,
   "metadata": {},
   "outputs": [],
   "source": [
    "def seperate_punc(doc_text):\n",
    "    return [token.text.lower() for token in nlp(doc_text) if token.text not in '\\n\\n \\n\\n\\n!\"-#$%&()--.*+,-/:;<=>?@[\\\\]^_`{|}~\\t\\n ']"
   ]
  },
  {
   "cell_type": "code",
   "execution_count": 8,
   "metadata": {},
   "outputs": [],
   "source": [
    "d=read_files('moby_dick_four_chapters.txt')"
   ]
  },
  {
   "cell_type": "code",
   "execution_count": 9,
   "metadata": {},
   "outputs": [],
   "source": [
    "tokens=seperate_punc(d)"
   ]
  },
  {
   "cell_type": "code",
   "execution_count": 11,
   "metadata": {},
   "outputs": [
    {
     "data": {
      "text/plain": [
       "11338"
      ]
     },
     "execution_count": 11,
     "metadata": {},
     "output_type": "execute_result"
    }
   ],
   "source": [
    "len(tokens)"
   ]
  },
  {
   "cell_type": "code",
   "execution_count": 12,
   "metadata": {},
   "outputs": [],
   "source": [
    "#pass 25 words--->  and let our neural network predict 26th word"
   ]
  },
  {
   "cell_type": "code",
   "execution_count": 14,
   "metadata": {},
   "outputs": [],
   "source": [
    "train_len = 25 +1\n",
    "text_sequences=[]\n",
    "for i in range(train_len,len(tokens)):\n",
    "    seq=tokens[i-train_len:i]\n",
    "    text_sequences.append(seq)"
   ]
  },
  {
   "cell_type": "code",
   "execution_count": 16,
   "metadata": {},
   "outputs": [
    {
     "data": {
      "text/plain": [
       "'call  me  ishmael  some  years  ago  never  mind  how  long  precisely  having  little  or  no  money  in  my  purse  and  nothing  particular  to  interest  me  on'"
      ]
     },
     "execution_count": 16,
     "metadata": {},
     "output_type": "execute_result"
    }
   ],
   "source": [
    "'  '.join(text_sequences[0])"
   ]
  },
  {
   "cell_type": "code",
   "execution_count": 17,
   "metadata": {},
   "outputs": [
    {
     "data": {
      "text/plain": [
       "'me  ishmael  some  years  ago  never  mind  how  long  precisely  having  little  or  no  money  in  my  purse  and  nothing  particular  to  interest  me  on  shore'"
      ]
     },
     "execution_count": 17,
     "metadata": {},
     "output_type": "execute_result"
    }
   ],
   "source": [
    "'  '.join(text_sequences[1])"
   ]
  },
  {
   "cell_type": "code",
   "execution_count": 18,
   "metadata": {},
   "outputs": [
    {
     "data": {
      "text/plain": [
       "'ishmael  some  years  ago  never  mind  how  long  precisely  having  little  or  no  money  in  my  purse  and  nothing  particular  to  interest  me  on  shore  i'"
      ]
     },
     "execution_count": 18,
     "metadata": {},
     "output_type": "execute_result"
    }
   ],
   "source": [
    "'  '.join(text_sequences[2])"
   ]
  },
  {
   "cell_type": "code",
   "execution_count": 20,
   "metadata": {},
   "outputs": [
    {
     "data": {
      "text/plain": [
       "11312"
      ]
     },
     "execution_count": 20,
     "metadata": {},
     "output_type": "execute_result"
    }
   ],
   "source": [
    "len(text_sequences)"
   ]
  },
  {
   "cell_type": "markdown",
   "metadata": {},
   "source": [
    "## Converting sequences to numbers"
   ]
  },
  {
   "cell_type": "code",
   "execution_count": 22,
   "metadata": {},
   "outputs": [],
   "source": [
    "from keras.preprocessing.text import Tokenizer"
   ]
  },
  {
   "cell_type": "code",
   "execution_count": 24,
   "metadata": {},
   "outputs": [],
   "source": [
    "tokenizer = Tokenizer()\n",
    "tokenizer.fit_on_texts(text_sequences)"
   ]
  },
  {
   "cell_type": "code",
   "execution_count": 26,
   "metadata": {},
   "outputs": [],
   "source": [
    "sequences=tokenizer.texts_to_sequences(text_sequences)"
   ]
  },
  {
   "cell_type": "code",
   "execution_count": 30,
   "metadata": {},
   "outputs": [
    {
     "data": {
      "text/plain": [
       "[954,\n",
       " 260,\n",
       " 50,\n",
       " 43,\n",
       " 38,\n",
       " 315,\n",
       " 7,\n",
       " 23,\n",
       " 546,\n",
       " 3,\n",
       " 150,\n",
       " 259,\n",
       " 6,\n",
       " 2712,\n",
       " 14,\n",
       " 24,\n",
       " 957,\n",
       " 5,\n",
       " 60,\n",
       " 5,\n",
       " 56,\n",
       " 316,\n",
       " 37,\n",
       " 2,\n",
       " 50,\n",
       " 3]"
      ]
     },
     "execution_count": 30,
     "metadata": {},
     "output_type": "execute_result"
    }
   ],
   "source": [
    "sequences[10]"
   ]
  },
  {
   "cell_type": "code",
   "execution_count": 33,
   "metadata": {},
   "outputs": [],
   "source": [
    "#tokenizer.index_word\n",
    "#to view the id for each word"
   ]
  },
  {
   "cell_type": "code",
   "execution_count": 35,
   "metadata": {},
   "outputs": [
    {
     "name": "stdout",
     "output_type": "stream",
     "text": [
      "956 : call\n",
      "14 : me\n",
      "263 : ishmael\n",
      "51 : some\n",
      "261 : years\n",
      "408 : ago\n",
      "87 : never\n",
      "219 : mind\n",
      "129 : how\n",
      "111 : long\n",
      "954 : precisely\n",
      "260 : having\n",
      "50 : little\n",
      "43 : or\n",
      "38 : no\n",
      "315 : money\n",
      "7 : in\n",
      "23 : my\n",
      "546 : purse\n",
      "3 : and\n",
      "150 : nothing\n",
      "259 : particular\n",
      "6 : to\n",
      "2712 : interest\n",
      "14 : me\n",
      "24 : on\n"
     ]
    }
   ],
   "source": [
    "for i in sequences[0]:\n",
    "    print(f\"{i} : {tokenizer.index_word[i]}\")"
   ]
  },
  {
   "cell_type": "code",
   "execution_count": 38,
   "metadata": {},
   "outputs": [],
   "source": [
    "#tokenizer.word_counts"
   ]
  },
  {
   "cell_type": "code",
   "execution_count": 39,
   "metadata": {},
   "outputs": [],
   "source": [
    "vocabulary_size = len(tokenizer.word_counts)"
   ]
  },
  {
   "cell_type": "code",
   "execution_count": 40,
   "metadata": {},
   "outputs": [
    {
     "data": {
      "text/plain": [
       "2717"
      ]
     },
     "execution_count": 40,
     "metadata": {},
     "output_type": "execute_result"
    }
   ],
   "source": [
    "vocabulary_size"
   ]
  },
  {
   "cell_type": "code",
   "execution_count": 41,
   "metadata": {},
   "outputs": [
    {
     "data": {
      "text/plain": [
       "list"
      ]
     },
     "execution_count": 41,
     "metadata": {},
     "output_type": "execute_result"
    }
   ],
   "source": [
    "type(sequences)"
   ]
  },
  {
   "cell_type": "code",
   "execution_count": 42,
   "metadata": {},
   "outputs": [],
   "source": [
    "import numpy as np"
   ]
  },
  {
   "cell_type": "code",
   "execution_count": 43,
   "metadata": {},
   "outputs": [],
   "source": [
    "sequences=np.array(sequences)"
   ]
  },
  {
   "cell_type": "code",
   "execution_count": 44,
   "metadata": {},
   "outputs": [
    {
     "data": {
      "text/plain": [
       "array([[ 956,   14,  263, ..., 2712,   14,   24],\n",
       "       [  14,  263,   51, ...,   14,   24,  957],\n",
       "       [ 263,   51,  261, ...,   24,  957,    5],\n",
       "       ...,\n",
       "       [ 952,   12,  166, ...,  262,   53,    2],\n",
       "       [  12,  166, 2711, ...,   53,    2, 2717],\n",
       "       [ 166, 2711,    3, ...,    2, 2717,   26]])"
      ]
     },
     "execution_count": 44,
     "metadata": {},
     "output_type": "execute_result"
    }
   ],
   "source": [
    "sequences"
   ]
  },
  {
   "cell_type": "code",
   "execution_count": 45,
   "metadata": {},
   "outputs": [],
   "source": [
    "from keras.utils import to_categorical"
   ]
  },
  {
   "cell_type": "code",
   "execution_count": 47,
   "metadata": {},
   "outputs": [],
   "source": [
    "# splitting the last column as a label"
   ]
  },
  {
   "cell_type": "code",
   "execution_count": 49,
   "metadata": {},
   "outputs": [],
   "source": [
    "X=sequences[:,:-1]"
   ]
  },
  {
   "cell_type": "code",
   "execution_count": 50,
   "metadata": {},
   "outputs": [],
   "source": [
    "y=sequences[:,-1]"
   ]
  },
  {
   "cell_type": "code",
   "execution_count": 51,
   "metadata": {},
   "outputs": [],
   "source": [
    "y=to_categorical(y,num_classes=vocabulary_size+1)"
   ]
  },
  {
   "cell_type": "code",
   "execution_count": 52,
   "metadata": {},
   "outputs": [],
   "source": [
    "seq_len=X.shape[1]"
   ]
  },
  {
   "cell_type": "code",
   "execution_count": 56,
   "metadata": {},
   "outputs": [
    {
     "data": {
      "text/plain": [
       "(11312, 25)"
      ]
     },
     "execution_count": 56,
     "metadata": {},
     "output_type": "execute_result"
    }
   ],
   "source": [
    "X.shape"
   ]
  },
  {
   "cell_type": "code",
   "execution_count": 54,
   "metadata": {},
   "outputs": [
    {
     "data": {
      "text/plain": [
       "25"
      ]
     },
     "execution_count": 54,
     "metadata": {},
     "output_type": "execute_result"
    }
   ],
   "source": [
    "seq_len"
   ]
  },
  {
   "cell_type": "code",
   "execution_count": 55,
   "metadata": {},
   "outputs": [],
   "source": [
    "from keras.models import Sequential\n",
    "from keras.layers import Dense,LSTM,Embedding"
   ]
  },
  {
   "cell_type": "code",
   "execution_count": 59,
   "metadata": {},
   "outputs": [],
   "source": [
    "def create_model(vocabulary_size,seq_len):\n",
    "    model=Sequential()\n",
    "    model.add(Embedding(vocabulary_size,seq_len,input_length=seq_len))\n",
    "    model.add(LSTM(50,return_sequences=True))\n",
    "    model.add(LSTM(50))\n",
    "    model.add(Dense(50,activation='relu'))\n",
    "    model.add(Dense(vocabulary_size,activation='softmax'))\n",
    "    model.compile(loss='categorical_crossentropy',optimizer='adam',metrics=['accuracy'])\n",
    "    model.summary()\n",
    "    return model"
   ]
  },
  {
   "cell_type": "code",
   "execution_count": 60,
   "metadata": {},
   "outputs": [
    {
     "name": "stderr",
     "output_type": "stream",
     "text": [
      "W0808 12:57:54.475601 11852 deprecation_wrapper.py:119] From C:\\ProgramData\\Anaconda3\\lib\\site-packages\\keras\\optimizers.py:790: The name tf.train.Optimizer is deprecated. Please use tf.compat.v1.train.Optimizer instead.\n",
      "\n",
      "W0808 12:57:54.518534 11852 deprecation_wrapper.py:119] From C:\\ProgramData\\Anaconda3\\lib\\site-packages\\keras\\backend\\tensorflow_backend.py:3295: The name tf.log is deprecated. Please use tf.math.log instead.\n",
      "\n"
     ]
    },
    {
     "name": "stdout",
     "output_type": "stream",
     "text": [
      "_________________________________________________________________\n",
      "Layer (type)                 Output Shape              Param #   \n",
      "=================================================================\n",
      "embedding_2 (Embedding)      (None, 25, 25)            67950     \n",
      "_________________________________________________________________\n",
      "lstm_3 (LSTM)                (None, 25, 50)            15200     \n",
      "_________________________________________________________________\n",
      "lstm_4 (LSTM)                (None, 50)                20200     \n",
      "_________________________________________________________________\n",
      "dense_1 (Dense)              (None, 50)                2550      \n",
      "_________________________________________________________________\n",
      "dense_2 (Dense)              (None, 2718)              138618    \n",
      "=================================================================\n",
      "Total params: 244,518\n",
      "Trainable params: 244,518\n",
      "Non-trainable params: 0\n",
      "_________________________________________________________________\n"
     ]
    }
   ],
   "source": [
    "model=create_model(vocabulary_size+1,seq_len)"
   ]
  },
  {
   "cell_type": "code",
   "execution_count": 61,
   "metadata": {},
   "outputs": [],
   "source": [
    "from pickle import dump,load"
   ]
  },
  {
   "cell_type": "code",
   "execution_count": 63,
   "metadata": {},
   "outputs": [
    {
     "name": "stdout",
     "output_type": "stream",
     "text": [
      "Epoch 1/100\n",
      "11312/11312 [==============================] - 8s 683us/step - loss: 6.1311 - acc: 0.0529\n",
      "Epoch 2/100\n",
      "11312/11312 [==============================] - 8s 664us/step - loss: 6.0783 - acc: 0.0530\n",
      "Epoch 3/100\n",
      "11312/11312 [==============================] - 7s 642us/step - loss: 6.0328 - acc: 0.0580\n",
      "Epoch 4/100\n",
      "11312/11312 [==============================] - 7s 653us/step - loss: 5.9736 - acc: 0.0666\n",
      "Epoch 5/100\n",
      "11312/11312 [==============================] - 7s 647us/step - loss: 5.8907 - acc: 0.0682\n",
      "Epoch 6/100\n",
      "11312/11312 [==============================] - 6s 507us/step - loss: 5.8130 - acc: 0.0692\n",
      "Epoch 7/100\n",
      "11312/11312 [==============================] - 5s 480us/step - loss: 5.7506 - acc: 0.0728\n",
      "Epoch 8/100\n",
      "11312/11312 [==============================] - 5s 474us/step - loss: 5.7018 - acc: 0.0734\n",
      "Epoch 9/100\n",
      "11312/11312 [==============================] - 5s 477us/step - loss: 5.6625 - acc: 0.0743\n",
      "Epoch 10/100\n",
      "11312/11312 [==============================] - 5s 472us/step - loss: 5.6258 - acc: 0.0753\n",
      "Epoch 11/100\n",
      "11312/11312 [==============================] - 5s 472us/step - loss: 5.5909 - acc: 0.0781\n",
      "Epoch 12/100\n",
      "11312/11312 [==============================] - 5s 469us/step - loss: 5.5597 - acc: 0.0778\n",
      "Epoch 13/100\n",
      "11312/11312 [==============================] - 5s 485us/step - loss: 5.5305 - acc: 0.0804\n",
      "Epoch 14/100\n",
      "11312/11312 [==============================] - 5s 438us/step - loss: 5.5021 - acc: 0.0807\n",
      "Epoch 15/100\n",
      "11312/11312 [==============================] - 6s 496us/step - loss: 5.4770 - acc: 0.0818\n",
      "Epoch 16/100\n",
      "11312/11312 [==============================] - 6s 543us/step - loss: 5.4468 - acc: 0.0827\n",
      "Epoch 17/100\n",
      "11312/11312 [==============================] - 6s 516us/step - loss: 5.4217 - acc: 0.0846\n",
      "Epoch 18/100\n",
      "11312/11312 [==============================] - 5s 464us/step - loss: 5.3938 - acc: 0.0856\n",
      "Epoch 19/100\n",
      "11312/11312 [==============================] - 6s 511us/step - loss: 5.3648 - acc: 0.0865\n",
      "Epoch 20/100\n",
      "11312/11312 [==============================] - 6s 528us/step - loss: 5.3365 - acc: 0.0887\n",
      "Epoch 21/100\n",
      "11312/11312 [==============================] - 6s 510us/step - loss: 5.3036 - acc: 0.0915\n",
      "Epoch 22/100\n",
      "11312/11312 [==============================] - 5s 464us/step - loss: 5.2700 - acc: 0.0917\n",
      "Epoch 23/100\n",
      "11312/11312 [==============================] - 6s 505us/step - loss: 5.2366 - acc: 0.0972\n",
      "Epoch 24/100\n",
      "11312/11312 [==============================] - 6s 532us/step - loss: 5.2007 - acc: 0.0971\n",
      "Epoch 25/100\n",
      "11312/11312 [==============================] - 6s 524us/step - loss: 5.1643 - acc: 0.0995\n",
      "Epoch 26/100\n",
      "11312/11312 [==============================] - 5s 462us/step - loss: 5.1342 - acc: 0.1008\n",
      "Epoch 27/100\n",
      "11312/11312 [==============================] - 6s 510us/step - loss: 5.0987 - acc: 0.1030\n",
      "Epoch 28/100\n",
      "11312/11312 [==============================] - 6s 527us/step - loss: 5.0618 - acc: 0.1064\n",
      "Epoch 29/100\n",
      "11312/11312 [==============================] - 6s 519us/step - loss: 5.0262 - acc: 0.1076\n",
      "Epoch 30/100\n",
      "11312/11312 [==============================] - 5s 466us/step - loss: 4.9899 - acc: 0.1087\n",
      "Epoch 31/100\n",
      "11312/11312 [==============================] - 6s 525us/step - loss: 4.9558 - acc: 0.1113\n",
      "Epoch 32/100\n",
      "11312/11312 [==============================] - 6s 533us/step - loss: 4.9182 - acc: 0.1118\n",
      "Epoch 33/100\n",
      "11312/11312 [==============================] - 6s 493us/step - loss: 4.8792 - acc: 0.1162\n",
      "Epoch 34/100\n",
      "11312/11312 [==============================] - 5s 463us/step - loss: 4.8424 - acc: 0.1162\n",
      "Epoch 35/100\n",
      "11312/11312 [==============================] - 6s 539us/step - loss: 4.8045 - acc: 0.1201\n",
      "Epoch 36/100\n",
      "11312/11312 [==============================] - 6s 537us/step - loss: 4.7646 - acc: 0.1221\n",
      "Epoch 37/100\n",
      "11312/11312 [==============================] - 6s 490us/step - loss: 4.7232 - acc: 0.1227\n",
      "Epoch 38/100\n",
      "11312/11312 [==============================] - 5s 467us/step - loss: 4.6832 - acc: 0.1261\n",
      "Epoch 39/100\n",
      "11312/11312 [==============================] - 6s 524us/step - loss: 4.6411 - acc: 0.1288\n",
      "Epoch 40/100\n",
      "11312/11312 [==============================] - 6s 533us/step - loss: 4.6064 - acc: 0.1285\n",
      "Epoch 41/100\n",
      "11312/11312 [==============================] - 6s 528us/step - loss: 4.5601 - acc: 0.1345\n",
      "Epoch 42/100\n",
      "11312/11312 [==============================] - 6s 530us/step - loss: 4.5227 - acc: 0.1346\n",
      "Epoch 43/100\n",
      "11312/11312 [==============================] - 6s 523us/step - loss: 4.4790 - acc: 0.1371\n",
      "Epoch 44/100\n",
      "11312/11312 [==============================] - 6s 528us/step - loss: 4.4384 - acc: 0.1399\n",
      "Epoch 45/100\n",
      "11312/11312 [==============================] - 6s 544us/step - loss: 4.4010 - acc: 0.1427\n",
      "Epoch 46/100\n",
      "11312/11312 [==============================] - 6s 545us/step - loss: 4.3621 - acc: 0.1421\n",
      "Epoch 47/100\n",
      "11312/11312 [==============================] - 6s 528us/step - loss: 4.3246 - acc: 0.1482\n",
      "Epoch 48/100\n",
      "11312/11312 [==============================] - 5s 464us/step - loss: 4.2883 - acc: 0.1499\n",
      "Epoch 49/100\n",
      "11312/11312 [==============================] - 6s 519us/step - loss: 4.2531 - acc: 0.1487\n",
      "Epoch 50/100\n",
      "11312/11312 [==============================] - 7s 575us/step - loss: 4.2194 - acc: 0.1536\n",
      "Epoch 51/100\n",
      "11312/11312 [==============================] - 6s 559us/step - loss: 4.1824 - acc: 0.1538\n",
      "Epoch 52/100\n",
      "11312/11312 [==============================] - 5s 473us/step - loss: 4.1435 - acc: 0.1565\n",
      "Epoch 53/100\n",
      "11312/11312 [==============================] - 5s 469us/step - loss: 4.1073 - acc: 0.1583\n",
      "Epoch 54/100\n",
      "11312/11312 [==============================] - 6s 537us/step - loss: 4.0775 - acc: 0.1640\n",
      "Epoch 55/100\n",
      "11312/11312 [==============================] - 6s 535us/step - loss: 4.0476 - acc: 0.1635\n",
      "Epoch 56/100\n",
      "11312/11312 [==============================] - 6s 544us/step - loss: 4.0135 - acc: 0.1622\n",
      "Epoch 57/100\n",
      "11312/11312 [==============================] - 6s 527us/step - loss: 3.9817 - acc: 0.1679\n",
      "Epoch 58/100\n",
      "11312/11312 [==============================] - 7s 614us/step - loss: 3.9481 - acc: 0.1731\n",
      "Epoch 59/100\n",
      "11312/11312 [==============================] - 6s 517us/step - loss: 3.9183 - acc: 0.1744\n",
      "Epoch 60/100\n",
      "11312/11312 [==============================] - 6s 523us/step - loss: 3.8888 - acc: 0.1764\n",
      "Epoch 61/100\n",
      "11312/11312 [==============================] - 8s 671us/step - loss: 3.8672 - acc: 0.1816\n",
      "Epoch 62/100\n",
      "11312/11312 [==============================] - 7s 615us/step - loss: 3.8366 - acc: 0.1839\n",
      "Epoch 63/100\n",
      "11312/11312 [==============================] - 7s 584us/step - loss: 3.8116 - acc: 0.1879\n",
      "Epoch 64/100\n",
      "11312/11312 [==============================] - 6s 529us/step - loss: 3.7779 - acc: 0.1897\n",
      "Epoch 65/100\n",
      "11312/11312 [==============================] - 6s 553us/step - loss: 3.7556 - acc: 0.1932\n",
      "Epoch 66/100\n",
      "11312/11312 [==============================] - 6s 529us/step - loss: 3.7374 - acc: 0.1955\n",
      "Epoch 67/100\n",
      "11312/11312 [==============================] - 6s 530us/step - loss: 3.7041 - acc: 0.1980\n",
      "Epoch 68/100\n",
      "11312/11312 [==============================] - 6s 534us/step - loss: 3.6794 - acc: 0.2007\n",
      "Epoch 69/100\n",
      "11312/11312 [==============================] - 6s 541us/step - loss: 3.6562 - acc: 0.2031\n",
      "Epoch 70/100\n",
      "11312/11312 [==============================] - 6s 529us/step - loss: 3.6254 - acc: 0.2080\n",
      "Epoch 71/100\n",
      "11312/11312 [==============================] - 6s 533us/step - loss: 3.6068 - acc: 0.2106\n",
      "Epoch 72/100\n",
      "11312/11312 [==============================] - 8s 726us/step - loss: 3.0620 - acc: 0.3014\n",
      "Epoch 99/100\n",
      "11312/11312 [==============================] - 9s 821us/step - loss: 3.0430 - acc: 0.3034\n",
      "Epoch 100/100\n",
      "11312/11312 [==============================] - 9s 752us/step - loss: 3.0257 - acc: 0.3061\n"
     ]
    },
    {
     "data": {
      "text/plain": [
       "<keras.callbacks.History at 0x146550c46d8>"
      ]
     },
     "execution_count": 63,
     "metadata": {},
     "output_type": "execute_result"
    }
   ],
   "source": [
    "model.fit(X,y,batch_size=128,epochs=100,verbose=1)"
   ]
  },
  {
   "cell_type": "code",
   "execution_count": 64,
   "metadata": {},
   "outputs": [],
   "source": [
    "model.save('LSTM_TEXT_GENERATION.h5')"
   ]
  },
  {
   "cell_type": "code",
   "execution_count": 66,
   "metadata": {},
   "outputs": [],
   "source": [
    "dump(tokenizer,open('my_tokenizer_lstm','wb'))"
   ]
  },
  {
   "cell_type": "markdown",
   "metadata": {},
   "source": [
    "## Generating new text"
   ]
  },
  {
   "cell_type": "code",
   "execution_count": 70,
   "metadata": {},
   "outputs": [],
   "source": [
    "from keras.preprocessing.sequence import pad_sequences"
   ]
  },
  {
   "cell_type": "code",
   "execution_count": 73,
   "metadata": {},
   "outputs": [],
   "source": [
    "def generate_text(model,tokenizer,seq_len,seed_text,num_gen_words):\n",
    "    output_text=[]\n",
    "    input_text=seed_text\n",
    "    for i in range(num_gen_words):\n",
    "        encoded_text=tokenizer.texts_to_sequences([input_text])[0]\n",
    "        pad_encoded=pad_sequences([encoded_text],maxlen=seq_len,truncating='pre')\n",
    "        pred_word_ind=model.predict_classes(pad_encoded,verbose=0)[0]\n",
    "        pred_word=tokenizer.index_word[pred_word_ind]\n",
    "        input_text+=' '+pred_word\n",
    "        output_text.append(pred_word)\n",
    "        \n",
    "    \n",
    "    \n",
    "    return '  '.join(output_text)\n",
    "    "
   ]
  },
  {
   "cell_type": "code",
   "execution_count": 74,
   "metadata": {},
   "outputs": [
    {
     "data": {
      "text/plain": [
       "'shore  wriggling  tell  tell  entirely'"
      ]
     },
     "execution_count": 74,
     "metadata": {},
     "output_type": "execute_result"
    }
   ],
   "source": [
    "generate_text(model,tokenizer,seq_len,text_sequences[0],5)"
   ]
  },
  {
   "cell_type": "code",
   "execution_count": 76,
   "metadata": {},
   "outputs": [],
   "source": [
    "from keras.models import load_model"
   ]
  },
  {
   "cell_type": "code",
   "execution_count": 77,
   "metadata": {},
   "outputs": [],
   "source": [
    "new_model=load_model('epochBIG.h5')"
   ]
  },
  {
   "cell_type": "code",
   "execution_count": 79,
   "metadata": {},
   "outputs": [],
   "source": [
    "new_tokenizer=load(open('epochBIG','rb'))"
   ]
  },
  {
   "cell_type": "code",
   "execution_count": 81,
   "metadata": {},
   "outputs": [
    {
     "data": {
      "text/plain": [
       "'raise  all  again  opinion  deadly  and  familiar  coward  deck  and'"
      ]
     },
     "execution_count": 81,
     "metadata": {},
     "output_type": "execute_result"
    }
   ],
   "source": [
    "generate_text(new_model,new_tokenizer,seq_len,text_sequences[0],10)"
   ]
  },
  {
   "cell_type": "code",
   "execution_count": null,
   "metadata": {},
   "outputs": [],
   "source": []
  }
 ],
 "metadata": {
  "kernelspec": {
   "display_name": "Python 3",
   "language": "python",
   "name": "python3"
  },
  "language_info": {
   "codemirror_mode": {
    "name": "ipython",
    "version": 3
   },
   "file_extension": ".py",
   "mimetype": "text/x-python",
   "name": "python",
   "nbconvert_exporter": "python",
   "pygments_lexer": "ipython3",
   "version": "3.7.3"
  }
 },
 "nbformat": 4,
 "nbformat_minor": 2
}
